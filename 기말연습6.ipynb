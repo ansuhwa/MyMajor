{
  "nbformat": 4,
  "nbformat_minor": 0,
  "metadata": {
    "colab": {
      "provenance": [],
      "authorship_tag": "ABX9TyOqTgKKL5giuVgx0/y5ZHiS",
      "include_colab_link": true
    },
    "kernelspec": {
      "name": "python3",
      "display_name": "Python 3"
    },
    "language_info": {
      "name": "python"
    }
  },
  "cells": [
    {
      "cell_type": "markdown",
      "metadata": {
        "id": "view-in-github",
        "colab_type": "text"
      },
      "source": [
        "<a href=\"https://colab.research.google.com/github/ansuhwa/MyMajor/blob/main/%EA%B8%B0%EB%A7%90%EC%97%B0%EC%8A%B56.ipynb\" target=\"_parent\"><img src=\"https://colab.research.google.com/assets/colab-badge.svg\" alt=\"Open In Colab\"/></a>"
      ]
    },
    {
      "cell_type": "markdown",
      "source": [
        "##6 Defining Functions."
      ],
      "metadata": {
        "id": "g_UcjvJ_OY00"
      }
    },
    {
      "cell_type": "code",
      "execution_count": 2,
      "metadata": {
        "id": "xjMbGKv3OPmJ"
      },
      "outputs": [],
      "source": [
        "#1. string argumnet 문자열 인자\n",
        "def add_txt(t1, t2): #string을 이용했을 때, 리턴하있는 함수\n",
        "  t_result = t1 + t2\n",
        "  return t_result"
      ]
    },
    {
      "cell_type": "code",
      "source": [
        "#1. a\n",
        "def add_txt(t1, t2):\n",
        "  result = t1 + t2\n",
        "  return result\n",
        "\n",
        "text1 = \"Hello,\"\n",
        "text2 = \"World!\"\n",
        "combined_text = add_txt(text1, text2)\n",
        "print(combined_text)\n",
        "\n",
        "# 반환문을 사용하여 함수가 결과를 명시적으로 반환하지 않을 때는\n",
        "# 텍스트1과 텍스트2를 인수로 하여 add_txt 함수를 호출하기만 하면 됩니다.\n",
        "# 그렇다면 이들을 연결하여 결과를 저장합니다"
      ],
      "metadata": {
        "colab": {
          "base_uri": "https://localhost:8080/"
        },
        "id": "YX4CYnbNPFK0",
        "outputId": "4e9b8500-e612-499b-b0f8-cd545806d9c3"
      },
      "execution_count": 4,
      "outputs": [
        {
          "output_type": "stream",
          "name": "stdout",
          "text": [
            "Hello,World!\n"
          ]
        }
      ]
    },
    {
      "cell_type": "code",
      "source": [
        "#1.b Compare!\n",
        "def add_txt(t1,t2):\n",
        "  result = t1 + t2\n",
        "\n",
        "text1 = \"Hello,\"\n",
        "text2 = \"World!\"\n",
        "combined_text = add_txt (text1,text2)\n",
        "print(combined_text)"
      ],
      "metadata": {
        "colab": {
          "base_uri": "https://localhost:8080/"
        },
        "id": "4Rp2RVfcPmRA",
        "outputId": "fa942db0-8f39-454e-b3e7-66ac6c9b1a13"
      },
      "execution_count": 5,
      "outputs": [
        {
          "output_type": "stream",
          "name": "stdout",
          "text": [
            "None\n"
          ]
        }
      ]
    },
    {
      "cell_type": "code",
      "source": [
        "#2 numer arument 숫자 인자\n",
        "def add_number(n1,n2):\n",
        "  n_result = (n1+n2)\n",
        "  return n_result\n",
        "\n",
        "num1 = 10\n",
        "num2 = 20\n",
        "\n",
        "add_nums = add_number(num1,num2)\n",
        "print(add_nums)"
      ],
      "metadata": {
        "colab": {
          "base_uri": "https://localhost:8080/"
        },
        "id": "VguGxLpkTtiR",
        "outputId": "038d96ca-0f7d-4bf0-c731-1425adbb9729"
      },
      "execution_count": 10,
      "outputs": [
        {
          "output_type": "stream",
          "name": "stdout",
          "text": [
            "30\n"
          ]
        }
      ]
    },
    {
      "cell_type": "code",
      "source": [
        "#2b\n",
        "def add_number(n1,n2):\n",
        "  result = n1 + n2\n",
        "num1 = 100\n",
        "num2 = 200\n",
        "add_number = add_number(num1,num2)\n",
        "print(add_number)"
      ],
      "metadata": {
        "colab": {
          "base_uri": "https://localhost:8080/"
        },
        "id": "3irls7QnUWwo",
        "outputId": "621a3f88-1380-407c-9ee4-4bf4cf462694"
      },
      "execution_count": 11,
      "outputs": [
        {
          "output_type": "stream",
          "name": "stdout",
          "text": [
            "None\n"
          ]
        }
      ]
    },
    {
      "cell_type": "markdown",
      "source": [
        "#함수의 반환문\n",
        "\n",
        "##### 반환문이 있는 함수는 그 결과 값을 생성하고, 그 시점에서 함수 실행이 중지됩니다.반환문이 없는 함수는 여전히 실행되지만 없음을 반환합니다. 반환문을 사용할지 여부는 함수가 코드의 다른 곳에서 사용할 수 있는 값을 생성하기를 원하는지 여부에 달려 있습니다. 결과를 반환할 필요가 없다면 반환문이 없어도 괜찮습니다. 주어진 스크립트에서 발신자는 실제로 my_len()입니다. 이것은 my_list 인수로 호출되는 함수입니다. 발신자는 my_len() 함수의 실행을 시작하고 my_list 변수를 입력으로 전달하는 역할을 합니다. my_len() 함수는 입력으로 제공되는 목록의 길이를 계산하고 결과를 반환하며, 이 결과는 print() 함수를 사용하여 출력됩니다."
      ],
      "metadata": {
        "id": "N9GcH-xKUz64"
      }
    },
    {
      "cell_type": "code",
      "source": [
        "def my_len(input_list):\n",
        "  length = 0\n",
        "  for i in input_list:\n",
        "    length += 1\n",
        "  return length\n",
        "my_list = [1,2,3,4,5,6]\n",
        "print(\"Length of the list:\"),my_len(my_list)"
      ],
      "metadata": {
        "colab": {
          "base_uri": "https://localhost:8080/"
        },
        "id": "NSdedkDhU9HY",
        "outputId": "27591ca0-93ab-4e49-e7c7-b2216463714a"
      },
      "execution_count": 13,
      "outputs": [
        {
          "output_type": "stream",
          "name": "stdout",
          "text": [
            "Length of the list:\n"
          ]
        },
        {
          "output_type": "execute_result",
          "data": {
            "text/plain": [
              "(None, 6)"
            ]
          },
          "metadata": {},
          "execution_count": 13
        }
      ]
    },
    {
      "cell_type": "markdown",
      "source": [
        "### for 문의 'initial = 0'부터 끝까지 각 코드라인에 대한 명시적인 설명.\n",
        "\n",
        "#### 1. Variable 길이 초기화:\n",
        "- for 루프 전에 목록의 길이를 저장하기 위해 가변 길이를 초기화합니다.\n",
        "- 처음에는 0으로 설정됩니다. 이 행은 for 루프를 벗어나므로 함수 실행을 시작할 때 한 번만 발생합니다.\n",
        "- 이 시점에서 길이는 우리가 지금까지 얼마나 많은 요소를 만났는지 추적하기 위한 자리 표시자에 불과합니다.\n",
        "2. 목록의 각 요소에 대해 반복:\n",
        "- input_list:의 i에 대한 루프는 목록의 각 요소를 반복하는 역할을 합니다.\n",
        "각 반복에서 i는 처리 중인 현재 요소를 나타냅니다.\n",
        "- 길이 증가:\n",
        "- 루프 내부에서는 각 요소 (i)를 처리한 후 문 길이 += 1을 사용하여 길이 변수를 1씩 증가시킵니다. 이 선은 목록을 반복하면서 각 요소를 효과적으로 계산합니다.\n",
        "목록에 있는 각 요소에 대해 길이 값이 1씩 증가합니다.\n",
        "3. 루프 마무리:\n",
        "루프는 목록의 모든 요소에 대해 반복될 때까지 계속됩니다.\n",
        "마지막 요소를 처리한 후 루프가 종료됩니다.\n",
        "4. 최종 길이 반환:"
      ],
      "metadata": {
        "id": "T0MtHULuWm55"
      }
    },
    {
      "cell_type": "code",
      "source": [
        "def print_message():\n",
        "  message = \"Hello,world!\"\n",
        "  print(message)\n",
        "print_message()"
      ],
      "metadata": {
        "colab": {
          "base_uri": "https://localhost:8080/"
        },
        "id": "tWEkCErpWw9Q",
        "outputId": "f403e5d1-7641-471c-e8dc-705a6dd1069f"
      },
      "execution_count": 14,
      "outputs": [
        {
          "output_type": "stream",
          "name": "stdout",
          "text": [
            "Hello,world!\n"
          ]
        }
      ]
    },
    {
      "cell_type": "markdown",
      "source": [
        "###### 'return'은 값을 호출자에게 다시 전달하는 데 사용되며, 이 기능을 통해 추가 계산에 사용되거나 나중에 사용할 수 있도록 저장된 결과를 제공할 수 있습니다. 반면 print()는 사용자에게 출력을 표시하거나 정보를 기록하는 데 사용되지만 프로그램의 흐름에 영향을 미치거나 호출자에게 값을 반환하지 않습니다. 이들은 서로 다른 목적을 수행하며 파이썬 프로그램 내에서 서로 다른 컨텍스트에서 사용됩니다."
      ],
      "metadata": {
        "id": "wQuTr0gSXTrf"
      }
    },
    {
      "cell_type": "markdown",
      "source": [
        "##Place holders\n",
        "- %d 및 %s은 문자열 형식에 사용되는 자리 표시자입니다.\n",
        "- 숫자나 문자열과 같이 특정 값을 삽입할 위치를 나타내기 위해 문자열에 사용됩니다. 이것이 의미하는 바입니다:\n",
        "1. %d: 정수(10진수)를 포맷하기 위한 자리 표시자입니다. 문자열에서 %d을(를) 사용하면 정수 값으로 바뀝니다.\n",
        "2. %s: 문자열을 포맷하기 위한 자리 표시자입니다. 문자열에 %s을(를) 사용하면 문자열 값으로 바뀝니다"
      ],
      "metadata": {
        "id": "GnjI7WbmXbfw"
      }
    },
    {
      "cell_type": "code",
      "source": [
        "#3. Example of place holders such as %d and %s.\n",
        "name = \"Alice\"\n",
        "score = 95\n",
        "age = 18\n",
        "test_result = \"You scored %d on the test.\" %score\n",
        "print(test_result)\n",
        "greeting = \"Hello,%s! You turn to finally %d years old finally.\"\n",
        "print(greeting)\n",
        "print('\\n')\n",
        "print(\"You scored %d on the test.\")\n",
        "print(\"Hello, %s! You turn to finally %d years old finall.\")"
      ],
      "metadata": {
        "colab": {
          "base_uri": "https://localhost:8080/"
        },
        "id": "-IhGMzMmXZ6L",
        "outputId": "11e3ba7c-5634-4746-d618-5c8fa7c708b8"
      },
      "execution_count": 15,
      "outputs": [
        {
          "output_type": "stream",
          "name": "stdout",
          "text": [
            "You scored 95 on the test.\n",
            "Hello,%s! You turn to finally %d years old finally.\n",
            "\n",
            "\n",
            "You scored %d on the test.\n",
            "Hello, %s! You turn to finally %d years old finall.\n"
          ]
        }
      ]
    },
    {
      "cell_type": "code",
      "source": [
        "#3b\n",
        "def add_and_print(a,b):\n",
        "  result = a + b\n",
        "  print(\"The sum of %d and %d is %d\" %(a, b, result))\n",
        "  return result\n",
        "sum_result = add_and_print(3,4)"
      ],
      "metadata": {
        "colab": {
          "base_uri": "https://localhost:8080/"
        },
        "id": "n9dy4rPtZyN8",
        "outputId": "40390734-9d0f-4202-a009-d280b72e80e5"
      },
      "execution_count": 16,
      "outputs": [
        {
          "output_type": "stream",
          "name": "stdout",
          "text": [
            "The sum of 3 and 4 is 7\n"
          ]
        }
      ]
    },
    {
      "cell_type": "markdown",
      "source": [
        "- 키워드 인자 : 함수 호출 때 괄호 안에 등호를 사용하여 표시할 때 이를 키워드 인자라고 한다. add_txt1(t1='My fined',t2= 'Python')\n",
        "- 기본인자: 'Python' 함수 호출 때 t2 위치에 실제 값을 전달하지 않아도 'python'이 기본값으로 대입됨."
      ],
      "metadata": {
        "id": "86nlikbhaIF8"
      }
    },
    {
      "cell_type": "code",
      "source": [
        "def add_txt1(t1,t2='Python'): #add_txt1은 t1과 t2를 :로 연결한뒤 출력하는 함수다.\n",
        "  print(t1 + ':' + t2)\n",
        "\n",
        "add_txt1('Best')\n",
        "add_txt1(t1='My firend', t2='Python')\n",
        "add_txt1(t1='My buddy')"
      ],
      "metadata": {
        "colab": {
          "base_uri": "https://localhost:8080/"
        },
        "id": "clLmrewGaG0W",
        "outputId": "f9ee0f80-95d5-4a66-dff8-64fcbda0a5e6"
      },
      "execution_count": 19,
      "outputs": [
        {
          "output_type": "stream",
          "name": "stdout",
          "text": [
            "Best:Python\n",
            "My firend:Python\n",
            "My buddy:Python\n"
          ]
        }
      ]
    }
  ]
}