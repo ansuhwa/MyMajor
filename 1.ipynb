{
  "nbformat": 4,
  "nbformat_minor": 0,
  "metadata": {
    "colab": {
      "provenance": [],
      "authorship_tag": "ABX9TyMD2bew8CuBldzWmB3flTOg",
      "include_colab_link": true
    },
    "kernelspec": {
      "name": "python3",
      "display_name": "Python 3"
    },
    "language_info": {
      "name": "python"
    }
  },
  "cells": [
    {
      "cell_type": "markdown",
      "metadata": {
        "id": "view-in-github",
        "colab_type": "text"
      },
      "source": [
        "<a href=\"https://colab.research.google.com/github/ansuhwa/MyMajor/blob/main/1.ipynb\" target=\"_parent\"><img src=\"https://colab.research.google.com/assets/colab-badge.svg\" alt=\"Open In Colab\"/></a>"
      ]
    },
    {
      "cell_type": "code",
      "execution_count": null,
      "metadata": {
        "colab": {
          "base_uri": "https://localhost:8080/"
        },
        "id": "q3bjqN2blr7F",
        "outputId": "46dfb71a-698a-4cca-f36f-659eb73b0443"
      },
      "outputs": [
        {
          "output_type": "stream",
          "name": "stdout",
          "text": [
            "Lori\n",
            "Sam\n",
            "Ken\n",
            "Jen\n"
          ]
        }
      ],
      "source": [
        "a = 'Lori'\n",
        "_b = 'Sam'\n",
        "a_b = 'Ken'\n",
        "c_d = 'Jen'\n",
        "\n",
        "print (a)\n",
        "print (_b)\n",
        "print (a_b)\n",
        "print (c_d)"
      ]
    },
    {
      "cell_type": "code",
      "source": [
        "c = \"I love python\"\n",
        "print (c)"
      ],
      "metadata": {
        "colab": {
          "base_uri": "https://localhost:8080/"
        },
        "id": "WyQpnbP5mUea",
        "outputId": "8983fbf5-932c-4b12-dc78-5b98e9e72273"
      },
      "execution_count": null,
      "outputs": [
        {
          "output_type": "stream",
          "name": "stdout",
          "text": [
            "I love python\n"
          ]
        }
      ]
    },
    {
      "cell_type": "code",
      "source": [
        "d = [\"Mercury\", \"Venus\", \"Earth\", \"Mars\", \"Jupiter\", \"Saturn\"]\n",
        "e = [\"수성\", \"금성\", \"지구\", \"화성\", \"목성\", \"토성\", \"천황성\" ]\n",
        "f = [1,2,3,4,5,6,7,8]\n",
        "\n",
        "print (d)\n",
        "print (e)\n",
        "print (f)\n"
      ],
      "metadata": {
        "colab": {
          "base_uri": "https://localhost:8080/"
        },
        "id": "jjepSW91matb",
        "outputId": "056ee6b7-7050-4ab6-81ab-78c5d8213341"
      },
      "execution_count": null,
      "outputs": [
        {
          "output_type": "stream",
          "name": "stdout",
          "text": [
            "['Mercury', 'Venus', 'Earth', 'Mars', 'Jupiter', 'Saturn']\n",
            "['수성', '금성', '지구', '화성', '목성', '토성', '천황성']\n",
            "[1, 2, 3, 4, 5, 6, 7, 8]\n"
          ]
        }
      ]
    },
    {
      "cell_type": "code",
      "source": [
        "str_data = ' I love python '\n",
        "list_data = [ 'apple','banana','grapes','mango' ]\n",
        "tuple_data = ( 'apple', 'banan', 'grapes', 'manogo' )\n",
        "\n",
        "print (str_data)\n",
        "print (list_data)\n",
        "print (tuple_data)"
      ],
      "metadata": {
        "colab": {
          "base_uri": "https://localhost:8080/"
        },
        "id": "k99jd1q8VWs4",
        "outputId": "b1290812-6355-4219-8285-a3e30de06f85"
      },
      "execution_count": null,
      "outputs": [
        {
          "output_type": "stream",
          "name": "stdout",
          "text": [
            " I love python \n",
            "['apple', 'banana', 'grapes', 'mango']\n",
            "('apple', 'banan', 'grapes', 'manogo')\n"
          ]
        }
      ]
    },
    {
      "cell_type": "code",
      "source": [
        "str_data = ' I love python '\n",
        "list_data = [ 'apple', 'banana', 'grapes', 'mango' ]\n",
        "tuple_data = ( 'apple', 'banana', 'grapes', 'mango' )\n",
        "\n",
        "print (str_data [0])\n",
        "print (str_data [1])\n",
        "print (str_data [2])\n",
        "print (str_data [3])\n",
        "print (str_data [4])"
      ],
      "metadata": {
        "colab": {
          "base_uri": "https://localhost:8080/"
        },
        "id": "Va7znh0rWAIG",
        "outputId": "6115a1bc-0c78-45bd-b8c5-76b07579fb60"
      },
      "execution_count": null,
      "outputs": [
        {
          "output_type": "stream",
          "name": "stdout",
          "text": [
            " \n",
            "I\n",
            " \n",
            "l\n",
            "o\n"
          ]
        }
      ]
    }
  ]
}