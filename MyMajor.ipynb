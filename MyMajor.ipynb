{
  "nbformat": 4,
  "nbformat_minor": 0,
  "metadata": {
    "colab": {
      "provenance": [],
      "authorship_tag": "ABX9TyNFTKd+EK8JMDXHXC7CEVYb",
      "include_colab_link": true
    },
    "kernelspec": {
      "name": "python3",
      "display_name": "Python 3"
    },
    "language_info": {
      "name": "python"
    }
  },
  "cells": [
    {
      "cell_type": "markdown",
      "metadata": {
        "id": "view-in-github",
        "colab_type": "text"
      },
      "source": [
        "<a href=\"https://colab.research.google.com/github/ansuhwa/MyMajor/blob/main/MyMajor.ipynb\" target=\"_parent\"><img src=\"https://colab.research.google.com/assets/colab-badge.svg\" alt=\"Open In Colab\"/></a>"
      ]
    },
    {
      "cell_type": "markdown",
      "source": [
        "\n",
        "\n",
        "20191755 안수화\n",
        "# ■ <font color='red'> 행정학과</font> (department of administration)에 대해 소개합니다.\n",
        "\n",
        "## <행정학과>란?\n",
        "* #### 다양한 국가운영을 효율적으로 관리하고 정부와 국민, 공공부문과 민간부문의 상호작용을 조망하여 정부의 바람직한 역할과 더 나아가 사회의 균형적 발 방향을 고심하는 학과입니다."
      ],
      "metadata": {
        "id": "LNWapxTOqzP0"
      }
    }
  ]
}