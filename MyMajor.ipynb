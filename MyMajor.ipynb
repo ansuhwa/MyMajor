{
  "nbformat": 4,
  "nbformat_minor": 0,
  "metadata": {
    "colab": {
      "provenance": [],
      "include_colab_link": true
    },
    "kernelspec": {
      "name": "python3",
      "display_name": "Python 3"
    },
    "language_info": {
      "name": "python"
    }
  },
  "cells": [
    {
      "cell_type": "markdown",
      "metadata": {
        "id": "view-in-github",
        "colab_type": "text"
      },
      "source": [
        "<a href=\"https://colab.research.google.com/github/ansuhwa/MyMajor/blob/main/MyMajor.ipynb\" target=\"_parent\"><img src=\"https://colab.research.google.com/assets/colab-badge.svg\" alt=\"Open In Colab\"/></a>"
      ]
    },
    {
      "cell_type": "markdown",
      "source": [
        "\n",
        "\n",
        "# ■ <font color='red'> 행정학과</font> (department of administration)에 대해 소개합니다.\n",
        "##### 행정학과 홈페이지 [Clikck Here](https://vision.hannam.ac.kr/)\n",
        "##### 행정학과 학부실: 사회과학대학(56주년기념관) C동 5층\n",
        "\n",
        "## ▶ <행정학과>란?\n",
        "* #### 다양한 국가운영을 효율적으로 관리하고 정부와 국민, 공공부문과 민간부문의 상호작용을 조망하여 정부의 바람직한 역할과 더 나아가 사회의 균형적 발전 방향을 고심하는 학과입니다.\n",
        "\n",
        "## ▶ 교육과정\n",
        "| # | 학년 | 과목 |\n",
        "|:--:|:--:|:--:|\n",
        "|   | 1 | <font color='green'> 행정학, 공공경제론, 인사행정론, 기초행정이론 |\n",
        "|   | 2 | <font color='green'> 조직학, 행정조사방법론, </font> 규제행정론, 공공리더십론, <font color='green'> 공공재정분석, 정책학 </font> 등.|\n",
        "|   | 3 | <font color='green'> 재무행정론, 거버넌스의 이해와 실제, 국가와 복지, </font> 행정관리론, 조직행동론 등.|\n",
        "|   | 4 | <font color='green'> 정책분석론, 창업행정, 지방재정론, </font> 정부혁신론 등.|\n",
        "\n",
        "## ▶ 졸업 후 진로\n",
        "##### ① 공무원\n",
        "##### ② 기업체 직원\n",
        "##### ③ 공사 및 정부 투자 기관\n",
        "##### ④ 언론인\n",
        "\n",
        "\n",
        "\n"
      ],
      "metadata": {
        "id": "LNWapxTOqzP0"
      }
    }
  ]
}