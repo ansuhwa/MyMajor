{
  "nbformat": 4,
  "nbformat_minor": 0,
  "metadata": {
    "colab": {
      "provenance": [],
      "include_colab_link": true
    },
    "kernelspec": {
      "name": "python3",
      "display_name": "Python 3"
    },
    "language_info": {
      "name": "python"
    }
  },
  "cells": [
    {
      "cell_type": "markdown",
      "metadata": {
        "id": "view-in-github",
        "colab_type": "text"
      },
      "source": [
        "<a href=\"https://colab.research.google.com/github/ansuhwa/MyMajor/blob/main/%EC%97%B0%EC%8A%B5.ipynb\" target=\"_parent\"><img src=\"https://colab.research.google.com/assets/colab-badge.svg\" alt=\"Open In Colab\"/></a>"
      ]
    },
    {
      "cell_type": "code",
      "source": [
        "a = 1\n",
        "b = 1\n",
        "\n",
        "print (a+b)\n",
        "\n",
        "c = 3\n",
        "print (c)\n",
        "\n",
        "b = 1\n",
        "print (c-b)\n",
        "\n",
        "a = 100\n",
        "print (a+b)"
      ],
      "metadata": {
        "colab": {
          "base_uri": "https://localhost:8080/"
        },
        "id": "RKoIBxt_1F5e",
        "outputId": "b7e89caf-830b-4b27-9e33-abd959ab2372"
      },
      "execution_count": null,
      "outputs": [
        {
          "output_type": "stream",
          "name": "stdout",
          "text": [
            "2\n",
            "3\n",
            "2\n",
            "101\n"
          ]
        }
      ]
    },
    {
      "cell_type": "code",
      "source": [
        "a = 1 #assign (할당한다)\n",
        "a = 2\n",
        "\n",
        "print (a)\n",
        "\n",
        "b = 2\n",
        "print (a+b)\n",
        "\n",
        "c = 3\n",
        "print (c)\n",
        "\n",
        "a = 1000\n",
        "print (a+b)\n",
        "\n",
        "b = 2\n",
        "print (c-b)\n",
        "print (a+b)\n",
        "\n",
        "b_1 = 1000\n",
        "b_2 = 100000\n",
        "print (b_1+b_2)"
      ],
      "metadata": {
        "colab": {
          "base_uri": "https://localhost:8080/"
        },
        "id": "XnmSWpRv1mCj",
        "outputId": "1cf7234b-e542-44f2-bbae-37cead2c5a2b"
      },
      "execution_count": null,
      "outputs": [
        {
          "output_type": "stream",
          "name": "stdout",
          "text": [
            "2\n",
            "4\n",
            "3\n",
            "1002\n",
            "1\n",
            "1002\n",
            "101000\n"
          ]
        }
      ]
    },
    {
      "cell_type": "markdown",
      "source": [
        "- inter 정수 : -100, -30, -11, 0, 1, 5, 100, 302, etc.\n",
        "- float 부동소수 : -100.0, -30.0, -11.0, 0.0, 0.1, 2.4, 100.32\n",
        "- complex 복소수 : 실수 (real number)+ (imaginary number) (e.g., 1+5j, 3/4+10j, 파이+2j, e+3j, etc.)\n",
        "\n",
        "- i) <font color='red'> List </font> : A list is indicated by a paair of square brackets [ ].\n",
        "    ['a', 'abc', '1', '911', ' I love python' ]\n",
        "- ii) <font color='red'> Tuple </font> : A tuple is indicated by a pair of brackets ( ).\n",
        "    ('a','abc',1,'911','I love pyuhon')"
      ],
      "metadata": {
        "id": "AEHJx90p2YZn"
      }
    },
    {
      "cell_type": "code",
      "source": [
        "a = 1\n",
        "print (a)\n",
        "\n",
        "b = 2\n",
        "print (b)\n",
        "\n",
        "print (a+b)\n",
        "\n",
        "c = \"I love pytong\"\n",
        "print (c)\n",
        "\n",
        "a = ' Lori '\n",
        "_b = ' Sam '\n",
        "a_b = ' Ken '\n",
        "c_d = ' Jen '\n",
        "\n",
        "print (a)\n",
        "print (_b)\n",
        "print (a_b)\n",
        "print (c_d)"
      ],
      "metadata": {
        "colab": {
          "base_uri": "https://localhost:8080/"
        },
        "id": "E_1bVtnw2Y3C",
        "outputId": "5c6f84eb-62d2-423e-8136-24d4a7386b76"
      },
      "execution_count": null,
      "outputs": [
        {
          "output_type": "stream",
          "name": "stdout",
          "text": [
            "1\n",
            "2\n",
            "3\n",
            "I love pytong\n",
            " Lori \n",
            " Sam \n",
            " Ken \n",
            " Jen \n"
          ]
        }
      ]
    },
    {
      "cell_type": "code",
      "source": [
        "d = [\"Mercury\", \"Venus\", \"Earth\", \"Mars\", \"Jupiter\", \"Saturn\", \"Uranus\" ]\n",
        "e = [\"수성\", \"금성\", \"지구\", \"화성\", \"목성\"]\n",
        "f = [1,2,3,4,5,6]\n",
        "\n",
        "print (d)\n",
        "print (e)\n",
        "print (f)"
      ],
      "metadata": {
        "id": "qIQSas6R4sR4",
        "outputId": "988b9d42-d0b2-49c6-cdad-05ee77dc664e",
        "colab": {
          "base_uri": "https://localhost:8080/"
        }
      },
      "execution_count": null,
      "outputs": [
        {
          "output_type": "stream",
          "name": "stdout",
          "text": [
            "['Mercury', 'Venus', 'Earth', 'Mars', 'Jupiter', 'Saturn', 'Uranus']\n",
            "['수성', '금성', '지구', '화성', '목성']\n",
            "[1, 2, 3, 4, 5, 6]\n"
          ]
        }
      ]
    },
    {
      "cell_type": "code",
      "source": [
        "x = 100\n",
        "y = 98\n",
        "\n",
        "if x > y :\n",
        "  print ('x is greater than y.')\n",
        "\n",
        "else :\n",
        "  print ('x is smaller than or equal to y.')"
      ],
      "metadata": {
        "id": "ip9lLZTliUWj",
        "outputId": "5afe1368-01e2-4c15-af5b-dc302217e034",
        "colab": {
          "base_uri": "https://localhost:8080/"
        }
      },
      "execution_count": null,
      "outputs": [
        {
          "output_type": "stream",
          "name": "stdout",
          "text": [
            "x is greater than y.\n"
          ]
        }
      ]
    },
    {
      "cell_type": "code",
      "source": [
        "x = 0\n",
        "y = 0\n",
        "\n",
        "if x > y :\n",
        "  print ('x is greater than y')\n",
        "\n",
        "else :\n",
        "  print ('x is smaller than or equal to y')"
      ],
      "metadata": {
        "id": "c6FMlUO_inIA",
        "outputId": "7a8c513c-bc23-404b-d976-f532f4bd4d5d",
        "colab": {
          "base_uri": "https://localhost:8080/"
        }
      },
      "execution_count": null,
      "outputs": [
        {
          "output_type": "stream",
          "name": "stdout",
          "text": [
            "x is smaller than or equal to y\n"
          ]
        }
      ]
    },
    {
      "cell_type": "code",
      "source": [
        "x = 345\n",
        "y = 678\n",
        "\n",
        "if x > y :\n",
        "  print ('x is greater than y.')\n",
        "\n",
        "else :\n",
        "  print ('x is smaller than or equal to y.')"
      ],
      "metadata": {
        "id": "NzpttB_yJVmr",
        "outputId": "404b85e4-5bd4-4095-fc66-3c121cc745db",
        "colab": {
          "base_uri": "https://localhost:8080/"
        }
      },
      "execution_count": null,
      "outputs": [
        {
          "output_type": "stream",
          "name": "stdout",
          "text": [
            "x is smaller than or equal to y.\n"
          ]
        }
      ]
    },
    {
      "cell_type": "code",
      "source": [
        "listdata = ['a','b','c']\n",
        "if 'a' in listdata:\n",
        "  print ('a가 listdata 안에 있습니다.')\n",
        "  print(listdata)"
      ],
      "metadata": {
        "colab": {
          "base_uri": "https://localhost:8080/"
        },
        "id": "bMvcT-8WbI8p",
        "outputId": "f6e8dfcb-49e0-46c9-e37f-ec6a173a8397"
      },
      "execution_count": null,
      "outputs": [
        {
          "output_type": "stream",
          "name": "stdout",
          "text": [
            "a가 listdata 안에 있습니다.\n",
            "['a', 'b', 'c']\n"
          ]
        }
      ]
    },
    {
      "cell_type": "code",
      "source": [
        "numbers = (1,2,3,4,5,6,7,8,9)\n",
        "print (numbers)\n",
        "print ('\\n')\n",
        "\n",
        "for i in numbers:\n",
        "  print (i)"
      ],
      "metadata": {
        "colab": {
          "base_uri": "https://localhost:8080/"
        },
        "id": "Qif0orvDbn9b",
        "outputId": "26323c2f-06b0-4505-ff83-dc543aea80f1"
      },
      "execution_count": null,
      "outputs": [
        {
          "output_type": "stream",
          "name": "stdout",
          "text": [
            "(1, 2, 3, 4, 5, 6, 7, 8, 9)\n",
            "\n",
            "\n",
            "1\n",
            "2\n",
            "3\n",
            "4\n",
            "5\n",
            "6\n",
            "7\n",
            "8\n",
            "9\n"
          ]
        }
      ]
    },
    {
      "cell_type": "code",
      "source": [
        "scope = [1,2,3,4,5]\n",
        "\n",
        "for x in scope:\n",
        "  print(x)"
      ],
      "metadata": {
        "colab": {
          "base_uri": "https://localhost:8080/"
        },
        "id": "B_OgmaGDcF7s",
        "outputId": "3f5de9d9-b257-45e0-ded7-d78b07d02460"
      },
      "execution_count": null,
      "outputs": [
        {
          "output_type": "stream",
          "name": "stdout",
          "text": [
            "1\n",
            "2\n",
            "3\n",
            "4\n",
            "5\n"
          ]
        }
      ]
    },
    {
      "cell_type": "code",
      "source": [
        "scope = [1,2,3,4,5,6]\n",
        "for y in scope :\n",
        "  print (y)"
      ],
      "metadata": {
        "id": "y70TMajAcV9u",
        "outputId": "b1917cfb-bc58-46ea-f000-bab522f931a4",
        "colab": {
          "base_uri": "https://localhost:8080/"
        }
      },
      "execution_count": null,
      "outputs": [
        {
          "output_type": "stream",
          "name": "stdout",
          "text": [
            "1\n",
            "2\n",
            "3\n",
            "4\n",
            "5\n",
            "6\n"
          ]
        }
      ]
    },
    {
      "cell_type": "code",
      "source": [
        "name = ['sam','emily','todd']\n",
        "for i in name:\n",
        "  print (i)"
      ],
      "metadata": {
        "id": "oZ1LxG-3cvLg",
        "outputId": "8201f320-867f-4535-bace-93a3fc347453",
        "colab": {
          "base_uri": "https://localhost:8080/"
        }
      },
      "execution_count": null,
      "outputs": [
        {
          "output_type": "stream",
          "name": "stdout",
          "text": [
            "sam\n",
            "emily\n",
            "todd\n"
          ]
        }
      ]
    },
    {
      "cell_type": "code",
      "source": [
        "class = [ 'Sam','Emily','todd' ]\n",
        "for i in class:\n",
        "  print (i)"
      ],
      "metadata": {
        "id": "mVxOgFSvc5US",
        "outputId": "837d3e08-d49d-44b3-e85c-a96104b498e7",
        "colab": {
          "base_uri": "https://localhost:8080/",
          "height": 109
        }
      },
      "execution_count": null,
      "outputs": [
        {
          "output_type": "error",
          "ename": "SyntaxError",
          "evalue": "invalid syntax (<ipython-input-17-02e007a80589>, line 1)",
          "traceback": [
            "\u001b[0;36m  File \u001b[0;32m\"<ipython-input-17-02e007a80589>\"\u001b[0;36m, line \u001b[0;32m1\u001b[0m\n\u001b[0;31m    class = [ 'Sam','Emily','todd' ]\u001b[0m\n\u001b[0m          ^\u001b[0m\n\u001b[0;31mSyntaxError\u001b[0m\u001b[0;31m:\u001b[0m invalid syntax\n"
          ]
        }
      ]
    },
    {
      "cell_type": "code",
      "source": [
        "name = ['sam','Emily','Todd']\n",
        "for i in name:\n",
        "  print (i)"
      ],
      "metadata": {
        "id": "zwl6bEmDdkYq",
        "outputId": "24fd7c6f-f2e6-4920-e68e-56a45c07a925",
        "colab": {
          "base_uri": "https://localhost:8080/"
        }
      },
      "execution_count": null,
      "outputs": [
        {
          "output_type": "stream",
          "name": "stdout",
          "text": [
            "sam\n",
            "Emily\n",
            "Todd\n"
          ]
        }
      ]
    },
    {
      "cell_type": "code",
      "source": [
        "for i in range (1):\n",
        "  print (i)\n",
        "type (i)"
      ],
      "metadata": {
        "id": "QRy-D2S5QXTS",
        "outputId": "725d983e-69de-4d9f-b58c-64def849c2b9",
        "colab": {
          "base_uri": "https://localhost:8080/"
        }
      },
      "execution_count": null,
      "outputs": [
        {
          "output_type": "stream",
          "name": "stdout",
          "text": [
            "0\n"
          ]
        },
        {
          "output_type": "execute_result",
          "data": {
            "text/plain": [
              "int"
            ]
          },
          "metadata": {},
          "execution_count": 1
        }
      ]
    },
    {
      "cell_type": "code",
      "source": [
        "for x in range (3):\n",
        "  print(x)\n",
        "\n",
        "type (x)"
      ],
      "metadata": {
        "id": "m_9BvZ2xQnXq",
        "outputId": "f99c8364-f7d3-4fd8-ff58-2c39f1a39cd1",
        "colab": {
          "base_uri": "https://localhost:8080/"
        }
      },
      "execution_count": null,
      "outputs": [
        {
          "output_type": "stream",
          "name": "stdout",
          "text": [
            "0\n",
            "1\n",
            "2\n"
          ]
        },
        {
          "output_type": "execute_result",
          "data": {
            "text/plain": [
              "int"
            ]
          },
          "metadata": {},
          "execution_count": 2
        }
      ]
    },
    {
      "cell_type": "code",
      "source": [
        "for x in range (3):\n",
        "  print (x)\n",
        "\n",
        "type (x)"
      ],
      "metadata": {
        "id": "Y58dZiaAQwwX",
        "outputId": "e508b2e3-2589-4838-ad96-2dfa7d726b22",
        "colab": {
          "base_uri": "https://localhost:8080/"
        }
      },
      "execution_count": null,
      "outputs": [
        {
          "output_type": "stream",
          "name": "stdout",
          "text": [
            "0\n",
            "1\n",
            "2\n"
          ]
        },
        {
          "output_type": "execute_result",
          "data": {
            "text/plain": [
              "int"
            ]
          },
          "metadata": {},
          "execution_count": 3
        }
      ]
    },
    {
      "cell_type": "code",
      "source": [
        "for y in range (10):\n",
        "  print (y)\n",
        "\n",
        "type (y)"
      ],
      "metadata": {
        "id": "uWXbw46eQ19a",
        "outputId": "aa8ac6e0-f3e0-45a1-ddf1-6943d5c0c924",
        "colab": {
          "base_uri": "https://localhost:8080/"
        }
      },
      "execution_count": null,
      "outputs": [
        {
          "output_type": "stream",
          "name": "stdout",
          "text": [
            "0\n",
            "1\n",
            "2\n",
            "3\n",
            "4\n",
            "5\n",
            "6\n",
            "7\n",
            "8\n",
            "9\n"
          ]
        },
        {
          "output_type": "execute_result",
          "data": {
            "text/plain": [
              "int"
            ]
          },
          "metadata": {},
          "execution_count": 4
        }
      ]
    },
    {
      "cell_type": "code",
      "source": [
        "for z in range (0):\n",
        "  print (z)\n",
        "\n",
        "list_fruit = [\"apple\",\"banana\",\"grape\",\"strawberry\",\"pear\",\"mango\"]\n",
        "\n",
        "for i in list_fruit:\n",
        "  print (i)"
      ],
      "metadata": {
        "id": "d4_BChXjQ67H",
        "outputId": "fa6f7c3e-b328-44f8-9e27-5c1fee195eee",
        "colab": {
          "base_uri": "https://localhost:8080/"
        }
      },
      "execution_count": null,
      "outputs": [
        {
          "output_type": "stream",
          "name": "stdout",
          "text": [
            "apple\n",
            "banana\n",
            "grape\n",
            "strawberry\n",
            "pear\n",
            "mango\n"
          ]
        }
      ]
    },
    {
      "cell_type": "code",
      "source": [
        "string = 'abcde'\n",
        "for c in string:\n",
        "  print (c)"
      ],
      "metadata": {
        "id": "cS0YOVzkRSG2",
        "outputId": "c7adbd12-c5f0-4732-f400-b4205ce9aa2c",
        "colab": {
          "base_uri": "https://localhost:8080/"
        }
      },
      "execution_count": null,
      "outputs": [
        {
          "output_type": "stream",
          "name": "stdout",
          "text": [
            "a\n",
            "b\n",
            "c\n",
            "d\n",
            "e\n"
          ]
        }
      ]
    },
    {
      "cell_type": "code",
      "source": [
        " list_int = [1,2,3,4,5]\n",
        " for c in list_int:\n",
        "  print (c)\n",
        "\n",
        "print ('/n')\n",
        "print (list_int[0])\n",
        "print ([0])"
      ],
      "metadata": {
        "id": "Vfv__t-VRZBh",
        "outputId": "28e98d9e-09b1-434c-d792-aef85e342ae6",
        "colab": {
          "base_uri": "https://localhost:8080/"
        }
      },
      "execution_count": null,
      "outputs": [
        {
          "output_type": "stream",
          "name": "stdout",
          "text": [
            "1\n",
            "2\n",
            "3\n",
            "4\n",
            "5\n",
            "/n\n",
            "1\n",
            "[0]\n"
          ]
        }
      ]
    },
    {
      "cell_type": "code",
      "source": [
        "print (list_int[0])\n",
        "print ([0])\n",
        "\n",
        "dict1 = {'a':97, 'b':98, 'c':99 }\n",
        "print (dict['c'])\n",
        "print ('\\n')\n",
        "\n",
        "for i in dict1:\n",
        "  print (i)"
      ],
      "metadata": {
        "id": "2N7peDkMR2ri",
        "outputId": "905b12cb-0432-4feb-dbfc-669265206efd",
        "colab": {
          "base_uri": "https://localhost:8080/"
        }
      },
      "execution_count": null,
      "outputs": [
        {
          "output_type": "stream",
          "name": "stdout",
          "text": [
            "1\n",
            "[0]\n",
            "dict['c']\n",
            "\n",
            "\n",
            "a\n",
            "b\n",
            "c\n"
          ]
        }
      ]
    },
    {
      "cell_type": "code",
      "source": [
        "text 3 = ['cat', 'hat', 'bat', 'sat']\n",
        "petten - r.\".at\"\n",
        "\n",
        "matches = re.findall (petten,text 3)\n",
        "for i in matches :\n",
        "  print (\"Match:\", i)"
      ],
      "metadata": {
        "colab": {
          "base_uri": "https://localhost:8080/",
          "height": 109
        },
        "id": "V1Xtm2v9ttaE",
        "outputId": "6d12d8c8-db22-4214-bec3-ca305a1ae94e"
      },
      "execution_count": null,
      "outputs": [
        {
          "output_type": "error",
          "ename": "SyntaxError",
          "evalue": "invalid syntax (<ipython-input-1-59b7935cda96>, line 1)",
          "traceback": [
            "\u001b[0;36m  File \u001b[0;32m\"<ipython-input-1-59b7935cda96>\"\u001b[0;36m, line \u001b[0;32m1\u001b[0m\n\u001b[0;31m    text 3 = ['cat', 'hat', 'bat', 'sat']\u001b[0m\n\u001b[0m         ^\u001b[0m\n\u001b[0;31mSyntaxError\u001b[0m\u001b[0;31m:\u001b[0m invalid syntax\n"
          ]
        }
      ]
    },
    {
      "cell_type": "code",
      "source": [
        "import re\n",
        "\n",
        "text = \"cat, hat, bat, sat, mat, combat, unbated\"\n",
        "pattern = r\".at\"  # .은 어떤 문자든 하나를 나타냄\n",
        "\n",
        "matches = re.findall(pattern, text)\n",
        "\n",
        "for i in matches:\n",
        "    print(\"Match:\", i)\n",
        "\n",
        "print('\\n')\n",
        "\n",
        "for match in matches:\n",
        "    print(\"Match:\", match)"
      ],
      "metadata": {
        "id": "BlO1nQW-DDy2",
        "outputId": "e6c6ccb8-2c40-4299-a0c5-da6b9b663976",
        "colab": {
          "base_uri": "https://localhost:8080/"
        }
      },
      "execution_count": null,
      "outputs": [
        {
          "output_type": "stream",
          "name": "stdout",
          "text": [
            "Match: cat\n",
            "Match: hat\n",
            "Match: bat\n",
            "Match: sat\n",
            "Match: mat\n",
            "Match: bat\n",
            "Match: bat\n",
            "\n",
            "\n",
            "Match: cat\n",
            "Match: hat\n",
            "Match: bat\n",
            "Match: sat\n",
            "Match: mat\n",
            "Match: bat\n",
            "Match: bat\n"
          ]
        }
      ]
    }
  ]
}