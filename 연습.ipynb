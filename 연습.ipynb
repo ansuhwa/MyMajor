{
  "nbformat": 4,
  "nbformat_minor": 0,
  "metadata": {
    "colab": {
      "provenance": [],
      "authorship_tag": "ABX9TyPYYASTEMkZDpMNguBwNSab",
      "include_colab_link": true
    },
    "kernelspec": {
      "name": "python3",
      "display_name": "Python 3"
    },
    "language_info": {
      "name": "python"
    }
  },
  "cells": [
    {
      "cell_type": "markdown",
      "metadata": {
        "id": "view-in-github",
        "colab_type": "text"
      },
      "source": [
        "<a href=\"https://colab.research.google.com/github/ansuhwa/MyMajor/blob/main/%EC%97%B0%EC%8A%B5.ipynb\" target=\"_parent\"><img src=\"https://colab.research.google.com/assets/colab-badge.svg\" alt=\"Open In Colab\"/></a>"
      ]
    },
    {
      "cell_type": "code",
      "source": [
        "a = 1\n",
        "b = 1\n",
        "\n",
        "print (a+b)\n",
        "\n",
        "c = 3\n",
        "print (c)\n",
        "\n",
        "b = 1\n",
        "print (c-b)\n",
        "\n",
        "a = 100\n",
        "print (a+b)"
      ],
      "metadata": {
        "colab": {
          "base_uri": "https://localhost:8080/"
        },
        "id": "RKoIBxt_1F5e",
        "outputId": "b7e89caf-830b-4b27-9e33-abd959ab2372"
      },
      "execution_count": null,
      "outputs": [
        {
          "output_type": "stream",
          "name": "stdout",
          "text": [
            "2\n",
            "3\n",
            "2\n",
            "101\n"
          ]
        }
      ]
    },
    {
      "cell_type": "code",
      "source": [
        "a = 1 #assign (할당한다)\n",
        "a = 2\n",
        "\n",
        "print (a)\n",
        "\n",
        "b = 2\n",
        "print (a+b)\n",
        "\n",
        "c = 3\n",
        "print (c)\n",
        "\n",
        "a = 1000\n",
        "print (a+b)\n",
        "\n",
        "b = 2\n",
        "print (c-b)\n",
        "print (a+b)\n",
        "\n",
        "b_1 = 1000\n",
        "b_2 = 100000\n",
        "print (b_1+b_2)"
      ],
      "metadata": {
        "colab": {
          "base_uri": "https://localhost:8080/"
        },
        "id": "XnmSWpRv1mCj",
        "outputId": "1cf7234b-e542-44f2-bbae-37cead2c5a2b"
      },
      "execution_count": null,
      "outputs": [
        {
          "output_type": "stream",
          "name": "stdout",
          "text": [
            "2\n",
            "4\n",
            "3\n",
            "1002\n",
            "1\n",
            "1002\n",
            "101000\n"
          ]
        }
      ]
    },
    {
      "cell_type": "markdown",
      "source": [
        "- inter 정수 : -100, -30, -11, 0, 1, 5, 100, 302, etc.\n",
        "- float 부동소수 : -100.0, -30.0, -11.0, 0.0, 0.1, 2.4, 100.32\n",
        "- complex 복소수 : 실수 (real number)+ (imaginary number) (e.g., 1+5j, 3/4+10j, 파이+2j, e+3j, etc.)\n",
        "\n",
        "- i) <font color='red'> List </font> : A list is indicated by a paair of square brackets [ ].\n",
        "    ['a', 'abc', '1', '911', ' I love python' ]\n",
        "- ii) <font color='red'> Tuple </font> : A tuple is indicated by a pair of brackets ( ).\n",
        "    ('a','abc',1,'911','I love pyuhon')"
      ],
      "metadata": {
        "id": "AEHJx90p2YZn"
      }
    },
    {
      "cell_type": "code",
      "source": [
        "a = 1\n",
        "print (a)\n",
        "\n",
        "b = 2\n",
        "print (b)\n",
        "\n",
        "print (a+b)\n",
        "\n",
        "c = \"I love pytong\"\n",
        "print (c)\n",
        "\n",
        "a = ' Lori '\n",
        "_b = ' Sam '\n",
        "a_b = ' Ken '\n",
        "c_d = ' Jen '\n",
        "\n",
        "print (a)\n",
        "print (_b)\n",
        "print (a_b)\n",
        "print (c_d)"
      ],
      "metadata": {
        "colab": {
          "base_uri": "https://localhost:8080/"
        },
        "id": "E_1bVtnw2Y3C",
        "outputId": "5c6f84eb-62d2-423e-8136-24d4a7386b76"
      },
      "execution_count": null,
      "outputs": [
        {
          "output_type": "stream",
          "name": "stdout",
          "text": [
            "1\n",
            "2\n",
            "3\n",
            "I love pytong\n",
            " Lori \n",
            " Sam \n",
            " Ken \n",
            " Jen \n"
          ]
        }
      ]
    },
    {
      "cell_type": "code",
      "source": [
        "d = [\"Mercury\", \"Venus\", \"Earth\", \"Mars\", \"Jupiter\", \"Saturn\", \"Uranus\" ]\n",
        "e = [\"수성\", \"금성\", \"지구\", \"화성\", \"목성\"]\n",
        "f = [1,2,3,4,5,6]\n",
        "\n",
        "print (d)\n",
        "print (e)\n",
        "print (f)"
      ],
      "metadata": {
        "id": "qIQSas6R4sR4",
        "outputId": "988b9d42-d0b2-49c6-cdad-05ee77dc664e",
        "colab": {
          "base_uri": "https://localhost:8080/"
        }
      },
      "execution_count": null,
      "outputs": [
        {
          "output_type": "stream",
          "name": "stdout",
          "text": [
            "['Mercury', 'Venus', 'Earth', 'Mars', 'Jupiter', 'Saturn', 'Uranus']\n",
            "['수성', '금성', '지구', '화성', '목성']\n",
            "[1, 2, 3, 4, 5, 6]\n"
          ]
        }
      ]
    },
    {
      "cell_type": "code",
      "source": [
        "x = 100\n",
        "y = 98\n",
        "\n",
        "if x > y :\n",
        "  print ('x is greater than y.')\n",
        "\n",
        "else :\n",
        "  print ('x is smaller than or equal to y.')"
      ],
      "metadata": {
        "id": "ip9lLZTliUWj",
        "outputId": "5afe1368-01e2-4c15-af5b-dc302217e034",
        "colab": {
          "base_uri": "https://localhost:8080/"
        }
      },
      "execution_count": null,
      "outputs": [
        {
          "output_type": "stream",
          "name": "stdout",
          "text": [
            "x is greater than y.\n"
          ]
        }
      ]
    },
    {
      "cell_type": "code",
      "source": [
        "x = 0\n",
        "y = 0\n",
        "\n",
        "if x > y :\n",
        "  print ('x is greater than y')\n",
        "\n",
        "else :\n",
        "  print ('x is smaller than or equal to y')"
      ],
      "metadata": {
        "id": "c6FMlUO_inIA",
        "outputId": "7a8c513c-bc23-404b-d976-f532f4bd4d5d",
        "colab": {
          "base_uri": "https://localhost:8080/"
        }
      },
      "execution_count": null,
      "outputs": [
        {
          "output_type": "stream",
          "name": "stdout",
          "text": [
            "x is smaller than or equal to y\n"
          ]
        }
      ]
    },
    {
      "cell_type": "code",
      "source": [
        "x = 345\n",
        "y = 678\n",
        "\n",
        "if x > y :\n",
        "  print ('x is greater than y.')\n",
        "\n",
        "else :\n",
        "  print ('x is smaller than or equal to y.')"
      ],
      "metadata": {
        "id": "NzpttB_yJVmr",
        "outputId": "404b85e4-5bd4-4095-fc66-3c121cc745db",
        "colab": {
          "base_uri": "https://localhost:8080/"
        }
      },
      "execution_count": null,
      "outputs": [
        {
          "output_type": "stream",
          "name": "stdout",
          "text": [
            "x is smaller than or equal to y.\n"
          ]
        }
      ]
    },
    {
      "cell_type": "code",
      "source": [
        "listdata = ['a','b','c']\n",
        "if 'a' in listdata:\n",
        "  print ('a가 listdata 안에 있습니다.')\n",
        "  print(listdata)"
      ],
      "metadata": {
        "colab": {
          "base_uri": "https://localhost:8080/"
        },
        "id": "bMvcT-8WbI8p",
        "outputId": "f6e8dfcb-49e0-46c9-e37f-ec6a173a8397"
      },
      "execution_count": 3,
      "outputs": [
        {
          "output_type": "stream",
          "name": "stdout",
          "text": [
            "a가 listdata 안에 있습니다.\n",
            "['a', 'b', 'c']\n"
          ]
        }
      ]
    },
    {
      "cell_type": "code",
      "source": [
        "numbers = (1,2,3,4,5,6,7,8,9)\n",
        "print (numbers)\n",
        "print ('\\n')\n",
        "\n",
        "for i in numbers:\n",
        "  print (i)"
      ],
      "metadata": {
        "colab": {
          "base_uri": "https://localhost:8080/"
        },
        "id": "Qif0orvDbn9b",
        "outputId": "26323c2f-06b0-4505-ff83-dc543aea80f1"
      },
      "execution_count": 8,
      "outputs": [
        {
          "output_type": "stream",
          "name": "stdout",
          "text": [
            "(1, 2, 3, 4, 5, 6, 7, 8, 9)\n",
            "\n",
            "\n",
            "1\n",
            "2\n",
            "3\n",
            "4\n",
            "5\n",
            "6\n",
            "7\n",
            "8\n",
            "9\n"
          ]
        }
      ]
    },
    {
      "cell_type": "code",
      "source": [
        "scope = [1,2,3,4,5]\n",
        "\n",
        "for x in scope:\n",
        "  print(x)"
      ],
      "metadata": {
        "colab": {
          "base_uri": "https://localhost:8080/"
        },
        "id": "B_OgmaGDcF7s",
        "outputId": "3f5de9d9-b257-45e0-ded7-d78b07d02460"
      },
      "execution_count": 9,
      "outputs": [
        {
          "output_type": "stream",
          "name": "stdout",
          "text": [
            "1\n",
            "2\n",
            "3\n",
            "4\n",
            "5\n"
          ]
        }
      ]
    },
    {
      "cell_type": "code",
      "source": [
        "scope = [1,2,3,4,5,6]\n",
        "for y in scope :\n",
        "  print (y)"
      ],
      "metadata": {
        "id": "y70TMajAcV9u",
        "outputId": "b1917cfb-bc58-46ea-f000-bab522f931a4",
        "colab": {
          "base_uri": "https://localhost:8080/"
        }
      },
      "execution_count": 10,
      "outputs": [
        {
          "output_type": "stream",
          "name": "stdout",
          "text": [
            "1\n",
            "2\n",
            "3\n",
            "4\n",
            "5\n",
            "6\n"
          ]
        }
      ]
    },
    {
      "cell_type": "code",
      "source": [
        "name = ['sam','emily','todd']\n",
        "for i in name:\n",
        "  print (i)"
      ],
      "metadata": {
        "id": "oZ1LxG-3cvLg",
        "outputId": "8201f320-867f-4535-bace-93a3fc347453",
        "colab": {
          "base_uri": "https://localhost:8080/"
        }
      },
      "execution_count": 11,
      "outputs": [
        {
          "output_type": "stream",
          "name": "stdout",
          "text": [
            "sam\n",
            "emily\n",
            "todd\n"
          ]
        }
      ]
    },
    {
      "cell_type": "code",
      "source": [
        "class = [ 'Sam','Emily','todd' ]\n",
        "for i in class:\n",
        "  print (i)"
      ],
      "metadata": {
        "id": "mVxOgFSvc5US",
        "outputId": "837d3e08-d49d-44b3-e85c-a96104b498e7",
        "colab": {
          "base_uri": "https://localhost:8080/",
          "height": 109
        }
      },
      "execution_count": 17,
      "outputs": [
        {
          "output_type": "error",
          "ename": "SyntaxError",
          "evalue": "invalid syntax (<ipython-input-17-02e007a80589>, line 1)",
          "traceback": [
            "\u001b[0;36m  File \u001b[0;32m\"<ipython-input-17-02e007a80589>\"\u001b[0;36m, line \u001b[0;32m1\u001b[0m\n\u001b[0;31m    class = [ 'Sam','Emily','todd' ]\u001b[0m\n\u001b[0m          ^\u001b[0m\n\u001b[0;31mSyntaxError\u001b[0m\u001b[0;31m:\u001b[0m invalid syntax\n"
          ]
        }
      ]
    },
    {
      "cell_type": "code",
      "source": [
        "name = ['sam','Emily','Todd']\n",
        "for i in name:\n",
        "  print (i)"
      ],
      "metadata": {
        "id": "zwl6bEmDdkYq",
        "outputId": "24fd7c6f-f2e6-4920-e68e-56a45c07a925",
        "colab": {
          "base_uri": "https://localhost:8080/"
        }
      },
      "execution_count": 18,
      "outputs": [
        {
          "output_type": "stream",
          "name": "stdout",
          "text": [
            "sam\n",
            "Emily\n",
            "Todd\n"
          ]
        }
      ]
    }
  ]
}