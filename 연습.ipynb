{
  "nbformat": 4,
  "nbformat_minor": 0,
  "metadata": {
    "colab": {
      "provenance": [],
      "authorship_tag": "ABX9TyPU77rMEfqGH7UVuWw5aN/j",
      "include_colab_link": true
    },
    "kernelspec": {
      "name": "python3",
      "display_name": "Python 3"
    },
    "language_info": {
      "name": "python"
    }
  },
  "cells": [
    {
      "cell_type": "markdown",
      "metadata": {
        "id": "view-in-github",
        "colab_type": "text"
      },
      "source": [
        "<a href=\"https://colab.research.google.com/github/ansuhwa/MyMajor/blob/main/%EC%97%B0%EC%8A%B5.ipynb\" target=\"_parent\"><img src=\"https://colab.research.google.com/assets/colab-badge.svg\" alt=\"Open In Colab\"/></a>"
      ]
    },
    {
      "cell_type": "code",
      "source": [
        "a = 1\n",
        "b = 1\n",
        "\n",
        "print (a+b)\n",
        "\n",
        "c = 3\n",
        "print (c)\n",
        "\n",
        "b = 1\n",
        "print (c-b)\n",
        "\n",
        "a = 100\n",
        "print (a+b)"
      ],
      "metadata": {
        "id": "RKoIBxt_1F5e",
        "outputId": "b7e89caf-830b-4b27-9e33-abd959ab2372",
        "colab": {
          "base_uri": "https://localhost:8080/"
        }
      },
      "execution_count": 4,
      "outputs": [
        {
          "output_type": "stream",
          "name": "stdout",
          "text": [
            "2\n",
            "3\n",
            "2\n",
            "101\n"
          ]
        }
      ]
    },
    {
      "cell_type": "code",
      "source": [
        "a = 1 #assign (할당한다)\n",
        "a = 2\n",
        "\n",
        "print (a)\n",
        "\n",
        "b = 2\n",
        "print (a+b)\n",
        "\n",
        "c = 3\n",
        "print (c)\n",
        "\n",
        "a = 1000\n",
        "print (a+b)\n",
        "\n",
        "b = 2\n",
        "print (c-b)\n",
        "print (a+b)\n",
        "\n",
        "b_1 = 1000\n",
        "b_2 = 100000\n",
        "print (b_1+b_2)"
      ],
      "metadata": {
        "id": "XnmSWpRv1mCj",
        "outputId": "1cf7234b-e542-44f2-bbae-37cead2c5a2b",
        "colab": {
          "base_uri": "https://localhost:8080/"
        }
      },
      "execution_count": 11,
      "outputs": [
        {
          "output_type": "stream",
          "name": "stdout",
          "text": [
            "2\n",
            "4\n",
            "3\n",
            "1002\n",
            "1\n",
            "1002\n",
            "101000\n"
          ]
        }
      ]
    },
    {
      "cell_type": "markdown",
      "source": [
        "- inter 정수 : -100, -30, -11, 0, 1, 5, 100, 302, etc.\n",
        "- float 부동소수 : -100.0, -30.0, -11.0, 0.0, 0.1, 2.4, 100.32\n",
        "- complex 복소수 : 실수 (real number)+ (imaginary number) (e.g., 1+5j, 3/4+10j, 파이+2j, e+3j, etc.)\n",
        "\n",
        "- i) <font color='red'> List </font> : A list is indicated by a paair of square brackets [ ]."
      ],
      "metadata": {
        "id": "AEHJx90p2YZn"
      }
    },
    {
      "cell_type": "code",
      "source": [],
      "metadata": {
        "id": "E_1bVtnw2Y3C"
      },
      "execution_count": null,
      "outputs": []
    }
  ]
}