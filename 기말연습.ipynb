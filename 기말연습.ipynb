{
  "nbformat": 4,
  "nbformat_minor": 0,
  "metadata": {
    "colab": {
      "provenance": [],
      "authorship_tag": "ABX9TyMU/XHOnYmK6cyERRjbtL1j",
      "include_colab_link": true
    },
    "kernelspec": {
      "name": "python3",
      "display_name": "Python 3"
    },
    "language_info": {
      "name": "python"
    }
  },
  "cells": [
    {
      "cell_type": "markdown",
      "metadata": {
        "id": "view-in-github",
        "colab_type": "text"
      },
      "source": [
        "<a href=\"https://colab.research.google.com/github/ansuhwa/MyMajor/blob/main/%EA%B8%B0%EB%A7%90%EC%97%B0%EC%8A%B5.ipynb\" target=\"_parent\"><img src=\"https://colab.research.google.com/assets/colab-badge.svg\" alt=\"Open In Colab\"/></a>"
      ]
    },
    {
      "cell_type": "markdown",
      "source": [
        "## 5_Regluar Expression"
      ],
      "metadata": {
        "id": "4bxgN_SkKbzT"
      }
    },
    {
      "cell_type": "code",
      "execution_count": 1,
      "metadata": {
        "colab": {
          "base_uri": "https://localhost:8080/"
        },
        "id": "FRxgUwmaKZ0x",
        "outputId": "329e6b6f-94de-4751-f930-fc76c11151ec"
      },
      "outputs": [
        {
          "output_type": "stream",
          "name": "stdout",
          "text": [
            "Match: o\n",
            "Match: n\n",
            "Match: e\n",
            "Match: y\n",
            "Match: i\n",
            "Match: s\n",
            "Match: i\n",
            "Match: m\n",
            "Match: e\n"
          ]
        }
      ],
      "source": [
        "#11. [a-z] 'a' 부터 'z' 까지의 모든 소문자 글자와 일치.\n",
        "import re\n",
        "text = \" Money is Time \"\n",
        "pattern = r\"[a-z]\"\n",
        "matches = re.findall(pattern,text)\n",
        "for i in matches:\n",
        "  print(\"Match:\", i)"
      ]
    },
    {
      "cell_type": "code",
      "source": [
        "#12. [A-Z] 'A' 부터 'Z'까지 모든 대문자 글자와 일치.\n",
        "import re\n",
        "text = \"\\\"Money is Time\"\n",
        "pattern =r\"[A-Z]\"\n",
        "matches = re.findall(pattern,text)\n",
        "for i in matches:\n",
        "  print(\"Match:\",i)"
      ],
      "metadata": {
        "colab": {
          "base_uri": "https://localhost:8080/"
        },
        "id": "249Y-PWcLDyS",
        "outputId": "8f26d2b1-8eac-481f-c137-339d8cecf9a4"
      },
      "execution_count": 2,
      "outputs": [
        {
          "output_type": "stream",
          "name": "stdout",
          "text": [
            "Match: M\n",
            "Match: T\n"
          ]
        }
      ]
    },
    {
      "cell_type": "code",
      "source": [
        "#13. [a-zA-Z] 알파벳(대소문자구분없이) 모든 문자와 일치\n",
        "import re\n",
        "text = \"Money is Time.\"\n",
        "pattern = r\"[a-zA-Z]\"\n",
        "matches = re.findall(pattern,text)\n",
        "for i in matches:\n",
        "  print(\"Match:\",i)"
      ],
      "metadata": {
        "colab": {
          "base_uri": "https://localhost:8080/"
        },
        "id": "Tcv5wBZALDo_",
        "outputId": "e40ef54e-b775-481c-839d-a4d405c59294"
      },
      "execution_count": 3,
      "outputs": [
        {
          "output_type": "stream",
          "name": "stdout",
          "text": [
            "Match: M\n",
            "Match: o\n",
            "Match: n\n",
            "Match: e\n",
            "Match: y\n",
            "Match: i\n",
            "Match: s\n",
            "Match: T\n",
            "Match: i\n",
            "Match: m\n",
            "Match: e\n"
          ]
        }
      ]
    },
    {
      "cell_type": "code",
      "source": [
        "#14. [0-9] 모든 숫자와 일치\n",
        "import re\n",
        "text = \"A total of 158 episodes of The Aesop for\"\n",
        "pattern = r\"[0-9]\" #숫자를 찾을 때 사용.\n",
        "matches = re.findall(pattern,text)\n",
        "for i in matches:\n",
        "  print(\"Match:\",i)"
      ],
      "metadata": {
        "colab": {
          "base_uri": "https://localhost:8080/"
        },
        "id": "M2Biv5ANNF0Z",
        "outputId": "ef5216a8-ff71-4bc5-a3a3-a967ac71c7b6"
      },
      "execution_count": 4,
      "outputs": [
        {
          "output_type": "stream",
          "name": "stdout",
          "text": [
            "Match: 1\n",
            "Match: 5\n",
            "Match: 8\n"
          ]
        }
      ]
    },
    {
      "cell_type": "code",
      "source": [
        "#15. [a-zA-Z0-9] 뜻: 대문자, 소문자 구분없이 알파벳과 숫자를 포함.\n",
        "import re\n",
        "text = \"Time is 1$ money! \"\n",
        "pattern = r\"[a-zA-Z0-9]\"\n",
        "matches = re.findall(pattern,text)\n",
        "for i in matches:\n",
        "  print(\"Match:\",i)"
      ],
      "metadata": {
        "colab": {
          "base_uri": "https://localhost:8080/"
        },
        "id": "Kzx1v__cONBR",
        "outputId": "f0483685-c7d4-451f-f46a-1435d093c385"
      },
      "execution_count": 5,
      "outputs": [
        {
          "output_type": "stream",
          "name": "stdout",
          "text": [
            "Match: T\n",
            "Match: i\n",
            "Match: m\n",
            "Match: e\n",
            "Match: i\n",
            "Match: s\n",
            "Match: 1\n",
            "Match: m\n",
            "Match: o\n",
            "Match: n\n",
            "Match: e\n",
            "Match: y\n"
          ]
        }
      ]
    },
    {
      "cell_type": "code",
      "source": [
        "#16. [^a-zA-Z0-9] 뜻: ^이 붙을시 소문자, 대문자 및 숫자를 제외.\n",
        "import re\n",
        "text = \" Time is money! \"\n",
        "pattern = r\"[^a-zA-Z0-9]\" #소문자,대문자,숫자를 제외한 띄어쓰기와 특수문자가 표출.\n",
        "matches = re.findall(pattern,text)\n",
        "for i in matches:\n",
        "  print(\"Match:\",i)"
      ],
      "metadata": {
        "colab": {
          "base_uri": "https://localhost:8080/"
        },
        "id": "cYSdXhjlO2Hr",
        "outputId": "9ed1a901-1d9e-4519-c4ff-c546b6ef4c39"
      },
      "execution_count": 7,
      "outputs": [
        {
          "output_type": "stream",
          "name": "stdout",
          "text": [
            "Match:  \n",
            "Match:  \n",
            "Match:  \n",
            "Match: !\n",
            "Match:  \n"
          ]
        }
      ]
    },
    {
      "cell_type": "code",
      "source": [
        "#17. | = 뜻: or 같은 역할\n",
        "import re\n",
        "text = \"The color can be either red, green, or blue.\"\n",
        "pattern = r\"(red|blue)\" #\"either red\"또는\"blue\"에 일치패턴.\n",
        "matches = re.findall(pattern,text)\n",
        "for i in matches:\n",
        "  print(\"Match:\",i)"
      ],
      "metadata": {
        "colab": {
          "base_uri": "https://localhost:8080/"
        },
        "id": "MzBLCPbpQXYH",
        "outputId": "8e4dc29a-77db-43b0-c32f-2fb502b298c7"
      },
      "execution_count": 8,
      "outputs": [
        {
          "output_type": "stream",
          "name": "stdout",
          "text": [
            "Match: red\n",
            "Match: blue\n"
          ]
        }
      ]
    },
    {
      "cell_type": "code",
      "source": [
        "#18.\n",
        "import re\n",
        "text = \"It cost me $715.45 and more.\"\n",
        "pattern1 = r\"more.$\"\n",
        "matches1 = re.findall(pattern1,text)\n",
        "for i in matches1:\n",
        "  print(\"Match1:\",i)\n",
        "pattern2 = r\"\\$*7\"\n",
        "matches2 = re.findall(pattern2,text)\n",
        "for i in matches2:\n",
        "  print(\"Match2:\",i)"
      ],
      "metadata": {
        "colab": {
          "base_uri": "https://localhost:8080/"
        },
        "id": "0TGzKPCvR71_",
        "outputId": "ac7797ef-0ce7-4394-8563-2aeab48dcfd9"
      },
      "execution_count": 11,
      "outputs": [
        {
          "output_type": "stream",
          "name": "stdout",
          "text": [
            "Match1: more.\n",
            "Match2: $7\n"
          ]
        }
      ]
    },
    {
      "cell_type": "code",
      "source": [
        "#19."
      ],
      "metadata": {
        "id": "1urQ3RM6R7uZ"
      },
      "execution_count": null,
      "outputs": []
    }
  ]
}