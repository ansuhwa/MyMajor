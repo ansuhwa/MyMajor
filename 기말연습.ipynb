{
  "nbformat": 4,
  "nbformat_minor": 0,
  "metadata": {
    "colab": {
      "provenance": [],
      "authorship_tag": "ABX9TyPFp04Ly2mFWJg6d4Z0rcF/",
      "include_colab_link": true
    },
    "kernelspec": {
      "name": "python3",
      "display_name": "Python 3"
    },
    "language_info": {
      "name": "python"
    }
  },
  "cells": [
    {
      "cell_type": "markdown",
      "metadata": {
        "id": "view-in-github",
        "colab_type": "text"
      },
      "source": [
        "<a href=\"https://colab.research.google.com/github/ansuhwa/MyMajor/blob/main/%EA%B8%B0%EB%A7%90%EC%97%B0%EC%8A%B5.ipynb\" target=\"_parent\"><img src=\"https://colab.research.google.com/assets/colab-badge.svg\" alt=\"Open In Colab\"/></a>"
      ]
    },
    {
      "cell_type": "markdown",
      "source": [
        "## 5_Regluar Expression"
      ],
      "metadata": {
        "id": "4bxgN_SkKbzT"
      }
    },
    {
      "cell_type": "code",
      "execution_count": null,
      "metadata": {
        "colab": {
          "base_uri": "https://localhost:8080/"
        },
        "id": "FRxgUwmaKZ0x",
        "outputId": "329e6b6f-94de-4751-f930-fc76c11151ec"
      },
      "outputs": [
        {
          "output_type": "stream",
          "name": "stdout",
          "text": [
            "Match: o\n",
            "Match: n\n",
            "Match: e\n",
            "Match: y\n",
            "Match: i\n",
            "Match: s\n",
            "Match: i\n",
            "Match: m\n",
            "Match: e\n"
          ]
        }
      ],
      "source": [
        "#11. [a-z] 'a' 부터 'z' 까지의 모든 소문자 글자와 일치.\n",
        "import re\n",
        "text = \" Money is Time \"\n",
        "pattern = r\"[a-z]\"\n",
        "matches = re.findall(pattern,text)\n",
        "for i in matches:\n",
        "  print(\"Match:\", i)"
      ]
    },
    {
      "cell_type": "code",
      "source": [
        "#12. [A-Z] 'A' 부터 'Z'까지 모든 대문자 글자와 일치.\n",
        "import re\n",
        "text = \"\\\"Money is Time\"\n",
        "pattern =r\"[A-Z]\"\n",
        "matches = re.findall(pattern,text)\n",
        "for i in matches:\n",
        "  print(\"Match:\",i)"
      ],
      "metadata": {
        "colab": {
          "base_uri": "https://localhost:8080/"
        },
        "id": "249Y-PWcLDyS",
        "outputId": "8f26d2b1-8eac-481f-c137-339d8cecf9a4"
      },
      "execution_count": null,
      "outputs": [
        {
          "output_type": "stream",
          "name": "stdout",
          "text": [
            "Match: M\n",
            "Match: T\n"
          ]
        }
      ]
    },
    {
      "cell_type": "code",
      "source": [
        "#13. [a-zA-Z] 알파벳(대소문자구분없이) 모든 문자와 일치\n",
        "import re\n",
        "text = \"Money is Time.\"\n",
        "pattern = r\"[a-zA-Z]\"\n",
        "matches = re.findall(pattern,text)\n",
        "for i in matches:\n",
        "  print(\"Match:\",i)"
      ],
      "metadata": {
        "colab": {
          "base_uri": "https://localhost:8080/"
        },
        "id": "Tcv5wBZALDo_",
        "outputId": "e40ef54e-b775-481c-839d-a4d405c59294"
      },
      "execution_count": null,
      "outputs": [
        {
          "output_type": "stream",
          "name": "stdout",
          "text": [
            "Match: M\n",
            "Match: o\n",
            "Match: n\n",
            "Match: e\n",
            "Match: y\n",
            "Match: i\n",
            "Match: s\n",
            "Match: T\n",
            "Match: i\n",
            "Match: m\n",
            "Match: e\n"
          ]
        }
      ]
    },
    {
      "cell_type": "code",
      "source": [
        "#14. [0-9] 모든 숫자와 일치\n",
        "import re\n",
        "text = \"A total of 158 episodes of The Aesop for\"\n",
        "pattern = r\"[0-9]\" #숫자를 찾을 때 사용.\n",
        "matches = re.findall(pattern,text)\n",
        "for i in matches:\n",
        "  print(\"Match:\",i)"
      ],
      "metadata": {
        "colab": {
          "base_uri": "https://localhost:8080/"
        },
        "id": "M2Biv5ANNF0Z",
        "outputId": "ef5216a8-ff71-4bc5-a3a3-a967ac71c7b6"
      },
      "execution_count": null,
      "outputs": [
        {
          "output_type": "stream",
          "name": "stdout",
          "text": [
            "Match: 1\n",
            "Match: 5\n",
            "Match: 8\n"
          ]
        }
      ]
    },
    {
      "cell_type": "code",
      "source": [
        "#15. [a-zA-Z0-9] 뜻: 대문자, 소문자 구분없이 알파벳과 숫자를 포함.\n",
        "import re\n",
        "text = \"Time is 1$ money! \"\n",
        "pattern = r\"[a-zA-Z0-9]\"\n",
        "matches = re.findall(pattern,text)\n",
        "for i in matches:\n",
        "  print(\"Match:\",i)"
      ],
      "metadata": {
        "colab": {
          "base_uri": "https://localhost:8080/"
        },
        "id": "Kzx1v__cONBR",
        "outputId": "f0483685-c7d4-451f-f46a-1435d093c385"
      },
      "execution_count": null,
      "outputs": [
        {
          "output_type": "stream",
          "name": "stdout",
          "text": [
            "Match: T\n",
            "Match: i\n",
            "Match: m\n",
            "Match: e\n",
            "Match: i\n",
            "Match: s\n",
            "Match: 1\n",
            "Match: m\n",
            "Match: o\n",
            "Match: n\n",
            "Match: e\n",
            "Match: y\n"
          ]
        }
      ]
    },
    {
      "cell_type": "code",
      "source": [
        "#16. [^a-zA-Z0-9] 뜻: ^이 붙을시 소문자, 대문자 및 숫자를 제외.\n",
        "import re\n",
        "text = \" Time is money! \"\n",
        "pattern = r\"[^a-zA-Z0-9]\" #소문자,대문자,숫자를 제외한 띄어쓰기와 특수문자가 표출.\n",
        "matches = re.findall(pattern,text)\n",
        "for i in matches:\n",
        "  print(\"Match:\",i)"
      ],
      "metadata": {
        "colab": {
          "base_uri": "https://localhost:8080/"
        },
        "id": "cYSdXhjlO2Hr",
        "outputId": "9ed1a901-1d9e-4519-c4ff-c546b6ef4c39"
      },
      "execution_count": null,
      "outputs": [
        {
          "output_type": "stream",
          "name": "stdout",
          "text": [
            "Match:  \n",
            "Match:  \n",
            "Match:  \n",
            "Match: !\n",
            "Match:  \n"
          ]
        }
      ]
    },
    {
      "cell_type": "code",
      "source": [
        "#17. | = 뜻: or 같은 역할\n",
        "import re\n",
        "text = \"The color can be either red, green, or blue.\"\n",
        "pattern = r\"(red|blue)\" #\"either red\"또는\"blue\"에 일치패턴.\n",
        "matches = re.findall(pattern,text)\n",
        "for i in matches:\n",
        "  print(\"Match:\",i)"
      ],
      "metadata": {
        "colab": {
          "base_uri": "https://localhost:8080/"
        },
        "id": "MzBLCPbpQXYH",
        "outputId": "8e4dc29a-77db-43b0-c32f-2fb502b298c7"
      },
      "execution_count": null,
      "outputs": [
        {
          "output_type": "stream",
          "name": "stdout",
          "text": [
            "Match: red\n",
            "Match: blue\n"
          ]
        }
      ]
    },
    {
      "cell_type": "code",
      "source": [
        "#18.\n",
        "import re\n",
        "text = \"It cost me $715.45 and more.\"\n",
        "pattern1 = r\"more.$\"\n",
        "matches1 = re.findall(pattern1,text)\n",
        "for i in matches1:\n",
        "  print(\"Match1:\",i)\n",
        "pattern2 = r\"\\$*7\"\n",
        "matches2 = re.findall(pattern2,text)\n",
        "for i in matches2:\n",
        "  print(\"Match2:\",i)\n"
      ],
      "metadata": {
        "colab": {
          "base_uri": "https://localhost:8080/"
        },
        "id": "0TGzKPCvR71_",
        "outputId": "ac7797ef-0ce7-4394-8563-2aeab48dcfd9"
      },
      "execution_count": null,
      "outputs": [
        {
          "output_type": "stream",
          "name": "stdout",
          "text": [
            "Match1: more.\n",
            "Match2: $7\n"
          ]
        }
      ]
    },
    {
      "cell_type": "code",
      "source": [
        "#19. 정규 표현식에서는 (\\)는 이스케이프 문자로 활용되며, 특수문자를 나타내거나\n",
        "# 메타문자 자체를 일반문자로 인식할 수 있다. 예를 들어 \\. 는 실제 점문자(.)를 매치\n",
        "import re\n",
        "text = \"Hello, world. \\n This is test #5.\"\n",
        "pattern = r\"\\.\" #실제 Period. 문자를 매치\n",
        "matches = re.findall (pattern,text)\n",
        "for i in matches:\n",
        "  print(\"Match:\",i)"
      ],
      "metadata": {
        "id": "1urQ3RM6R7uZ",
        "outputId": "2db659c2-4176-4069-eb3b-837e5ba5bd99",
        "colab": {
          "base_uri": "https://localhost:8080/"
        }
      },
      "execution_count": 1,
      "outputs": [
        {
          "output_type": "stream",
          "name": "stdout",
          "text": [
            "Match: .\n",
            "Match: .\n"
          ]
        }
      ]
    },
    {
      "cell_type": "code",
      "source": [
        "#19.a\n",
        "import re\n",
        "text=\"Hello,world.\\n This is test #5.\"\n",
        "pattern = r\".\"\n",
        "# r'.' for 한개의 임의의 문자 (예: 대문자, 소문자, 숫자, white space,punctuations)\n",
        "matches = re.findall (pattern,text)\n",
        "for i in matches:\n",
        "  print(\"Match:\",i)"
      ],
      "metadata": {
        "id": "ikmCphI2VS-W",
        "outputId": "d7069702-9fbe-4621-bc3c-a233f102d583",
        "colab": {
          "base_uri": "https://localhost:8080/"
        }
      },
      "execution_count": 3,
      "outputs": [
        {
          "output_type": "stream",
          "name": "stdout",
          "text": [
            "Match: H\n",
            "Match: e\n",
            "Match: l\n",
            "Match: l\n",
            "Match: o\n",
            "Match: ,\n",
            "Match: w\n",
            "Match: o\n",
            "Match: r\n",
            "Match: l\n",
            "Match: d\n",
            "Match: .\n",
            "Match:  \n",
            "Match: T\n",
            "Match: h\n",
            "Match: i\n",
            "Match: s\n",
            "Match:  \n",
            "Match: i\n",
            "Match: s\n",
            "Match:  \n",
            "Match: t\n",
            "Match: e\n",
            "Match: s\n",
            "Match: t\n",
            "Match:  \n",
            "Match: #\n",
            "Match: 5\n",
            "Match: .\n"
          ]
        }
      ]
    },
    {
      "cell_type": "code",
      "source": [
        "#20. 정규표현식에서 백슬래시는 이스케이프문자로 사용되며, 특수문자를 나타내거나 메타문자 자체를 일반문자로 사용\n",
        "#백슬래시를 사용하여 특수문자를 매칭할 수 있다. \\$는 실제 dollar sign($)를 매치.\n",
        "import re\n",
        "text = \"The price is $100.\"\n",
        "pattern = r\"\\$\"\n",
        "matches = re.findall(pattern,text)\n",
        "for i in matches:\n",
        "  print(\"Match:\",i)"
      ],
      "metadata": {
        "id": "oMQH-gM-V5D_",
        "outputId": "34df61ec-474b-49b1-87ff-9a5d95dad382",
        "colab": {
          "base_uri": "https://localhost:8080/"
        }
      },
      "execution_count": 4,
      "outputs": [
        {
          "output_type": "stream",
          "name": "stdout",
          "text": [
            "Match: $\n"
          ]
        }
      ]
    },
    {
      "cell_type": "code",
      "source": [
        "#21.'\\d' represents 0 to 9.\n",
        "import re\n",
        "text = \"The price is $100.\"\n",
        "pattern = r\"\\d\"\n",
        "matches = re.findall(pattern,text)\n",
        "for i in matches:\n",
        "  print(\"Match:\",i)"
      ],
      "metadata": {
        "id": "pKbaSb-GWoeZ",
        "outputId": "83b94666-5df9-409e-930e-540de25f17df",
        "colab": {
          "base_uri": "https://localhost:8080/"
        }
      },
      "execution_count": 5,
      "outputs": [
        {
          "output_type": "stream",
          "name": "stdout",
          "text": [
            "Match: 1\n",
            "Match: 0\n",
            "Match: 0\n"
          ]
        }
      ]
    },
    {
      "cell_type": "code",
      "source": [
        "#21a\n",
        "#cf. 만약 100이라는 문자열 전체에 대한 하나의 일치를 원한다면\n",
        "#r\"\\d+\"와 같이 +메타문자를 사용하여 숫자가 <하나이상> 연속해서 일치하도록\n",
        "#패턴을 정의해야함.\n",
        "import re\n",
        "text1 = \"The price is $100 and the number pi is approxima 3.14\"\n",
        "pattern1 = r'\\d+'\n",
        "text2 = \"The number pi is approximately 3.14159265\"\n",
        "pattern2 = r\"\\d+\\.\\d+\"\n",
        "matches1 = re.findall(pattern1,text1)\n",
        "matches2 = re.findall(pattern2,text2)\n",
        "print(matches1) #새로 추가 as of 4/30/24\n",
        "for i in matches1:\n",
        "  print(\"Match1:\",i)\n",
        "print(matches2)\n",
        "for i in matches2:\n",
        "  print (\"Match2:\",i)"
      ],
      "metadata": {
        "id": "TWAFgUWuXhaZ",
        "outputId": "a9f9b450-5b45-430a-a995-6351b61caf6b",
        "colab": {
          "base_uri": "https://localhost:8080/"
        }
      },
      "execution_count": 6,
      "outputs": [
        {
          "output_type": "stream",
          "name": "stdout",
          "text": [
            "['100', '3', '14']\n",
            "Match1: 100\n",
            "Match1: 3\n",
            "Match1: 14\n",
            "['3.14159265']\n",
            "Match2: 3.14159265\n"
          ]
        }
      ]
    }
  ]
}